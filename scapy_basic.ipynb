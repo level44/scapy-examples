{
 "cells": [
  {
   "cell_type": "markdown",
   "metadata": {},
   "source": [
    "# Scapy"
   ]
  },
  {
   "cell_type": "markdown",
   "metadata": {},
   "source": [
    "## basic"
   ]
  },
  {
   "cell_type": "markdown",
   "metadata": {},
   "source": [
    "**Import scapy**"
   ]
  },
  {
   "cell_type": "code",
   "execution_count": 1,
   "metadata": {},
   "outputs": [],
   "source": [
    "from scapy.all import *"
   ]
  },
  {
   "cell_type": "markdown",
   "metadata": {},
   "source": [
    "**How to build packets**"
   ]
  },
  {
   "cell_type": "code",
   "execution_count": 2,
   "metadata": {},
   "outputs": [
    {
     "data": {
      "text/plain": [
       "<IP  |>"
      ]
     },
     "execution_count": 2,
     "metadata": {},
     "output_type": "execute_result"
    }
   ],
   "source": [
    "IP()"
   ]
  },
  {
   "cell_type": "code",
   "execution_count": 34,
   "metadata": {},
   "outputs": [
    {
     "data": {
      "text/plain": [
       "<IP  dst=10.0.2.4 |>"
      ]
     },
     "execution_count": 34,
     "metadata": {},
     "output_type": "execute_result"
    }
   ],
   "source": [
    "IP(dst=\"10.0.2.4\")"
   ]
  },
  {
   "cell_type": "markdown",
   "metadata": {},
   "source": [
    "**Packet composed over two layers (IP - layer 3, TCP - layer 4). / operator is used to compose over layers.**"
   ]
  },
  {
   "cell_type": "code",
   "execution_count": 2,
   "metadata": {},
   "outputs": [
    {
     "data": {
      "text/plain": [
       "<IP  frag=0 proto=tcp dst=10.0.2.4 |<TCP  |<Raw  load='Hello world!' |>>>"
      ]
     },
     "execution_count": 2,
     "metadata": {},
     "output_type": "execute_result"
    }
   ],
   "source": [
    "p = IP(dst=\"10.0.2.4\")/TCP()/\"Hello world!\"\n",
    "p"
   ]
  },
  {
   "cell_type": "code",
   "execution_count": 39,
   "metadata": {},
   "outputs": [
    {
     "name": "stdout",
     "output_type": "stream",
     "text": [
      "0000   45 00 00 34 00 01 00 00  40 06 62 BB 0A 00 02 05   E..4....@.b.....\n",
      "0010   0A 00 02 04 00 14 00 50  00 00 00 00 00 00 00 00   .......P........\n",
      "0020   50 02 20 00 05 7B 00 00  48 65 6C 6C 6F 20 77 6F   P. ..{..Hello wo\n",
      "0030   72 6C 64 21                                        rld!\n"
     ]
    }
   ],
   "source": [
    "hexdump(p)"
   ]
  },
  {
   "cell_type": "markdown",
   "metadata": {},
   "source": [
    "**Lets move for a while to the second layer:**"
   ]
  },
  {
   "cell_type": "code",
   "execution_count": 4,
   "metadata": {},
   "outputs": [
    {
     "data": {
      "text/plain": [
       "<Ether  type=0x800 |<IP  frag=0 proto=tcp dst=10.0.2.4 |<TCP  |<Raw  load='Hello world!' |>>>>"
      ]
     },
     "execution_count": 4,
     "metadata": {},
     "output_type": "execute_result"
    }
   ],
   "source": [
    "p = Ether()/IP(dst=\"10.0.2.4\")/TCP()/\"Hello world!\"\n",
    "p"
   ]
  },
  {
   "cell_type": "code",
   "execution_count": 5,
   "metadata": {},
   "outputs": [
    {
     "name": "stdout",
     "output_type": "stream",
     "text": [
      "dst        : DestMACField                        = '08:00:27:f8:a1:68' (None)\n",
      "src        : SourceMACField                      = '08:00:27:59:1b:51' (None)\n",
      "type       : XShortEnumField                     = 2048            (36864)\n",
      "--\n",
      "version    : BitField (4 bits)                   = 4               (4)\n",
      "ihl        : BitField (4 bits)                   = None            (None)\n",
      "tos        : XByteField                          = 0               (0)\n",
      "len        : ShortField                          = None            (None)\n",
      "id         : ShortField                          = 1               (1)\n",
      "flags      : FlagsField (3 bits)                 = 0               (0)\n",
      "frag       : BitField (13 bits)                  = 0               (0)\n",
      "ttl        : ByteField                           = 64              (64)\n",
      "proto      : ByteEnumField                       = 6               (0)\n",
      "chksum     : XShortField                         = None            (None)\n",
      "src        : SourceIPField (Emph)                = '10.0.2.5'      (None)\n",
      "dst        : DestIPField (Emph)                  = '10.0.2.4'      (None)\n",
      "options    : PacketListField                     = []              ([])\n",
      "--\n",
      "sport      : ShortEnumField                      = 20              (20)\n",
      "dport      : ShortEnumField                      = 80              (80)\n",
      "seq        : IntField                            = 0               (0)\n",
      "ack        : IntField                            = 0               (0)\n",
      "dataofs    : BitField (4 bits)                   = None            (None)\n",
      "reserved   : BitField (3 bits)                   = 0               (0)\n",
      "flags      : FlagsField (9 bits)                 = 2               (2)\n",
      "window     : ShortField                          = 8192            (8192)\n",
      "chksum     : XShortField                         = None            (None)\n",
      "urgptr     : ShortField                          = 0               (0)\n",
      "options    : TCPOptionsField                     = {}              ({})\n",
      "--\n",
      "load       : StrField                            = 'Hello world!'  ('')\n"
     ]
    }
   ],
   "source": [
    "ls(p)"
   ]
  },
  {
   "cell_type": "code",
   "execution_count": 52,
   "metadata": {},
   "outputs": [
    {
     "data": {
      "text/plain": [
       "'E\\x00\\x004\\x00\\x01\\x00\\x00@\\x06b\\xbb\\n\\x00\\x02\\x05\\n\\x00\\x02\\x04\\x00\\x14\\x00P\\x00\\x00\\x00\\x00\\x00\\x00\\x00\\x00P\\x02 \\x00\\x05{\\x00\\x00Hello world!'"
      ]
     },
     "execution_count": 52,
     "metadata": {},
     "output_type": "execute_result"
    }
   ],
   "source": [
    "str(p)"
   ]
  },
  {
   "cell_type": "code",
   "execution_count": 6,
   "metadata": {},
   "outputs": [
    {
     "name": "stdout",
     "output_type": "stream",
     "text": [
      "###[ Ethernet ]### \n",
      "  dst       = 08:00:27:f8:a1:68\n",
      "  src       = 08:00:27:59:1b:51\n",
      "  type      = 0x800\n",
      "###[ IP ]### \n",
      "     version   = 4\n",
      "     ihl       = None\n",
      "     tos       = 0x0\n",
      "     len       = None\n",
      "     id        = 1\n",
      "     flags     = \n",
      "     frag      = 0\n",
      "     ttl       = 64\n",
      "     proto     = tcp\n",
      "     chksum    = None\n",
      "     src       = 10.0.2.5\n",
      "     dst       = 10.0.2.4\n",
      "     \\options   \\\n",
      "###[ TCP ]### \n",
      "        sport     = ftp_data\n",
      "        dport     = http\n",
      "        seq       = 0\n",
      "        ack       = 0\n",
      "        dataofs   = None\n",
      "        reserved  = 0\n",
      "        flags     = S\n",
      "        window    = 8192\n",
      "        chksum    = None\n",
      "        urgptr    = 0\n",
      "        options   = {}\n",
      "###[ Raw ]### \n",
      "           load      = 'Hello world!'\n",
      "\n"
     ]
    }
   ],
   "source": [
    "p.show()"
   ]
  },
  {
   "cell_type": "markdown",
   "metadata": {},
   "source": [
    "**How to modify packets:**"
   ]
  },
  {
   "cell_type": "code",
   "execution_count": 8,
   "metadata": {},
   "outputs": [
    {
     "data": {
      "text/plain": [
       "'10.0.2.5'"
      ]
     },
     "execution_count": 8,
     "metadata": {},
     "output_type": "execute_result"
    }
   ],
   "source": [
    "p[IP].src"
   ]
  },
  {
   "cell_type": "code",
   "execution_count": 9,
   "metadata": {},
   "outputs": [],
   "source": [
    "p[IP].src='10.0.2.99'"
   ]
  },
  {
   "cell_type": "code",
   "execution_count": 11,
   "metadata": {},
   "outputs": [
    {
     "name": "stdout",
     "output_type": "stream",
     "text": [
      "###[ Ethernet ]### \n",
      "  dst       = 08:00:27:f8:a1:68\n",
      "  src       = 08:00:27:59:1b:51\n",
      "  type      = 0x800\n",
      "###[ IP ]### \n",
      "     version   = 4\n",
      "     ihl       = None\n",
      "     tos       = 0x0\n",
      "     len       = None\n",
      "     id        = 1\n",
      "     flags     = \n",
      "     frag      = 0\n",
      "     ttl       = 64\n",
      "     proto     = tcp\n",
      "     chksum    = None\n",
      "     src       = 10.0.2.99\n",
      "     dst       = 10.0.2.4\n",
      "     \\options   \\\n",
      "###[ TCP ]### \n",
      "        sport     = ftp_data\n",
      "        dport     = http\n",
      "        seq       = 0\n",
      "        ack       = 0\n",
      "        dataofs   = None\n",
      "        reserved  = 0\n",
      "        flags     = S\n",
      "        window    = 8192\n",
      "        chksum    = None\n",
      "        urgptr    = 0\n",
      "        options   = {}\n",
      "###[ Raw ]### \n",
      "           load      = 'Hello world!'\n",
      "\n"
     ]
    }
   ],
   "source": [
    "p.show()"
   ]
  },
  {
   "cell_type": "markdown",
   "metadata": {},
   "source": [
    "## sending and receiving packets - ICMP example"
   ]
  },
  {
   "cell_type": "markdown",
   "metadata": {},
   "source": [
    "**Create IP packet with ICMP protocol**\n",
    "* dst - is destination address, or addresses (please note that example uses range from 1 to 10)\n",
    "* timeout - in second how long scapy should wait after last sent packet\n",
    "* \"Hello world\" - packet payload\n",
    "\n",
    "**Respone will be tuple with two elements:**\n",
    "* answered packets\n",
    "* unanswered packets"
   ]
  },
  {
   "cell_type": "markdown",
   "metadata": {},
   "source": [
    "**To just sent packet use send command**"
   ]
  },
  {
   "cell_type": "code",
   "execution_count": 18,
   "metadata": {},
   "outputs": [
    {
     "name": "stdout",
     "output_type": "stream",
     "text": [
      "\n",
      "Sent 1 packets.\n"
     ]
    }
   ],
   "source": [
    "send(IP(dst=\"10.0.2.5\")/ICMP()/\"Hello world!\")"
   ]
  },
  {
   "cell_type": "markdown",
   "metadata": {},
   "source": [
    "T**o send and receive one received packet use sr1 method**"
   ]
  },
  {
   "cell_type": "code",
   "execution_count": 19,
   "metadata": {},
   "outputs": [
    {
     "name": "stdout",
     "output_type": "stream",
     "text": [
      "Begin emission:\n",
      "Finished to send 1 packets.\n",
      "\n",
      "Received 28 packets, got 1 answers, remaining 0 packets\n"
     ]
    }
   ],
   "source": [
    "ans = sr1(IP(dst=\"10.0.2.4\")/ICMP()/\"Hello world!\")"
   ]
  },
  {
   "cell_type": "code",
   "execution_count": 21,
   "metadata": {},
   "outputs": [
    {
     "data": {
      "text/plain": [
       "'IP / ICMP 10.0.2.4 > 10.0.2.5 echo-reply 0 / Raw / Padding'"
      ]
     },
     "execution_count": 21,
     "metadata": {},
     "output_type": "execute_result"
    }
   ],
   "source": [
    "ans.summary()"
   ]
  },
  {
   "cell_type": "code",
   "execution_count": 22,
   "metadata": {},
   "outputs": [
    {
     "name": "stdout",
     "output_type": "stream",
     "text": [
      "###[ IP ]### \n",
      "  version   = 4L\n",
      "  ihl       = 5L\n",
      "  tos       = 0x0\n",
      "  len       = 40\n",
      "  id        = 36863\n",
      "  flags     = \n",
      "  frag      = 0L\n",
      "  ttl       = 64\n",
      "  proto     = icmp\n",
      "  chksum    = 0xd2cd\n",
      "  src       = 10.0.2.4\n",
      "  dst       = 10.0.2.5\n",
      "  \\options   \\\n",
      "###[ ICMP ]### \n",
      "     type      = echo-reply\n",
      "     code      = 0\n",
      "     chksum    = 0x8e10\n",
      "     id        = 0x0\n",
      "     seq       = 0x0\n",
      "###[ Raw ]### \n",
      "        load      = 'Hello world!'\n",
      "###[ Padding ]### \n",
      "           load      = '\\x00\\x00\\x00\\x00\\x00\\x00'\n",
      "\n"
     ]
    }
   ],
   "source": [
    "ans.show()"
   ]
  },
  {
   "cell_type": "markdown",
   "metadata": {},
   "source": [
    "**To send and receive all packets use sr method**"
   ]
  },
  {
   "cell_type": "code",
   "execution_count": 8,
   "metadata": {
    "scrolled": true
   },
   "outputs": [
    {
     "name": "stdout",
     "output_type": "stream",
     "text": [
      "Begin emission:\n",
      "Finished to send 10 packets.\n",
      "\n",
      "Received 92 packets, got 3 answers, remaining 7 packets\n"
     ]
    }
   ],
   "source": [
    "ans,unans=sr(IP(dst=\"10.0.2.1-10\")/ICMP()/\"Hello world!\",timeout=2)"
   ]
  },
  {
   "cell_type": "code",
   "execution_count": 9,
   "metadata": {},
   "outputs": [
    {
     "name": "stdout",
     "output_type": "stream",
     "text": [
      "IP / ICMP 10.0.2.5 > 10.0.2.1 echo-request 0 / Raw ==> IP / ICMP 10.0.2.1 > 10.0.2.5 echo-reply 0 / Raw / Padding\n",
      "IP / ICMP 10.0.2.5 > 10.0.2.2 echo-request 0 / Raw ==> IP / ICMP 10.0.2.2 > 10.0.2.5 echo-reply 0 / Raw / Padding\n",
      "IP / ICMP 10.0.2.5 > 10.0.2.4 echo-request 0 / Raw ==> IP / ICMP 10.0.2.4 > 10.0.2.5 echo-reply 0 / Raw / Padding\n"
     ]
    }
   ],
   "source": [
    "ans.summary()"
   ]
  },
  {
   "cell_type": "markdown",
   "metadata": {},
   "source": [
    "**Let's make some changes in the request:**\n",
    "* src - it's source address\n",
    "* ttl - time to live "
   ]
  },
  {
   "cell_type": "code",
   "execution_count": 14,
   "metadata": {},
   "outputs": [
    {
     "name": "stdout",
     "output_type": "stream",
     "text": [
      "Begin emission:\n",
      "Finished to send 1 packets.\n",
      "\n",
      "Received 49 packets, got 0 answers, remaining 1 packets\n"
     ]
    }
   ],
   "source": [
    "ans,unans=sr(IP(src=\"10.0.2.2\",dst=\"10.0.2.4\",ttl=128)/ICMP()/\"Hello world!\",timeout=2)"
   ]
  },
  {
   "cell_type": "code",
   "execution_count": 15,
   "metadata": {},
   "outputs": [],
   "source": [
    "ans.summary()"
   ]
  },
  {
   "cell_type": "markdown",
   "metadata": {},
   "source": [
    "**Source address has been changed to other machine thus we do not receive any response - guess who received ;)**\n",
    "\n",
    "**Let's display all unanswered packets.**"
   ]
  },
  {
   "cell_type": "code",
   "execution_count": 16,
   "metadata": {},
   "outputs": [
    {
     "name": "stdout",
     "output_type": "stream",
     "text": [
      "IP / ICMP 10.0.2.2 > 10.0.2.4 echo-request 0 / Raw\n"
     ]
    }
   ],
   "source": [
    "unans.summary()"
   ]
  },
  {
   "cell_type": "markdown",
   "metadata": {},
   "source": [
    "**Not enough, OK, we can also send ping reply in behalf of 10.0.2.4**\n",
    "\n",
    "**ICMP type 0 means - echo reply, let's create such packet**"
   ]
  },
  {
   "cell_type": "code",
   "execution_count": 17,
   "metadata": {},
   "outputs": [
    {
     "name": "stdout",
     "output_type": "stream",
     "text": [
      "\n",
      "Sent 1 packets.\n"
     ]
    }
   ],
   "source": [
    "send(IP(src=\"10.0.2.4\", dst=\"10.0.2.2\", ttl=128)/ICMP(type=0)/\"HelloWorld\") "
   ]
  },
  {
   "cell_type": "markdown",
   "metadata": {},
   "source": [
    "## Simple port scanner"
   ]
  },
  {
   "cell_type": "markdown",
   "metadata": {},
   "source": [
    "**Let's create basic TCP/IP packet**"
   ]
  },
  {
   "cell_type": "code",
   "execution_count": 23,
   "metadata": {},
   "outputs": [
    {
     "name": "stdout",
     "output_type": "stream",
     "text": [
      "Begin emission:\n",
      "Finished to send 1 packets.\n",
      "\n",
      "Received 26 packets, got 1 answers, remaining 0 packets\n"
     ]
    }
   ],
   "source": [
    "ans,unans = sr(IP(dst=\"10.0.2.4\")/TCP(dport=23))"
   ]
  },
  {
   "cell_type": "code",
   "execution_count": 24,
   "metadata": {},
   "outputs": [
    {
     "name": "stdout",
     "output_type": "stream",
     "text": [
      "IP / TCP 10.0.2.5:ftp_data > 10.0.2.4:telnet S ==> IP / TCP 10.0.2.4:telnet > 10.0.2.5:ftp_data SA / Padding\n"
     ]
    }
   ],
   "source": [
    "ans.summary()"
   ]
  },
  {
   "cell_type": "code",
   "execution_count": 25,
   "metadata": {},
   "outputs": [
    {
     "name": "stdout",
     "output_type": "stream",
     "text": [
      "Begin emission:\n",
      "Finished to send 1 packets.\n",
      "\n",
      "Received 25 packets, got 1 answers, remaining 0 packets\n"
     ]
    }
   ],
   "source": [
    "ans,unans = sr(IP(dst=\"10.0.2.4\")/TCP(dport=678))"
   ]
  },
  {
   "cell_type": "code",
   "execution_count": 26,
   "metadata": {},
   "outputs": [
    {
     "name": "stdout",
     "output_type": "stream",
     "text": [
      "IP / TCP 10.0.2.5:ftp_data > 10.0.2.4:678 S ==> IP / TCP 10.0.2.4:678 > 10.0.2.5:ftp_data RA / Padding\n"
     ]
    }
   ],
   "source": [
    "ans.summary()"
   ]
  },
  {
   "cell_type": "markdown",
   "metadata": {},
   "source": [
    "**Please note response flags:**\n",
    "* port 23 - response is SA which means SYN-ACK (port open)\n",
    "* port 678 - response is RA which means RESET-ACK (port closed)"
   ]
  },
  {
   "cell_type": "markdown",
   "metadata": {},
   "source": [
    "**Would you like to have more control over sent packet, no problem:**\n",
    "* sport - source port\n",
    "* dport - list of ports instead of one port!\n",
    "* flag - request flag (here S - SYN)"
   ]
  },
  {
   "cell_type": "code",
   "execution_count": 28,
   "metadata": {},
   "outputs": [
    {
     "name": "stdout",
     "output_type": "stream",
     "text": [
      "Begin emission:\n",
      "Finished to send 3 packets.\n",
      "\n",
      "Received 28 packets, got 3 answers, remaining 0 packets\n"
     ]
    }
   ],
   "source": [
    "ans,unans = sr(IP(dst=\"10.0.2.4\")/TCP(sport=777,dport=[23,80,10000],flags=\"S\"))"
   ]
  },
  {
   "cell_type": "code",
   "execution_count": 29,
   "metadata": {},
   "outputs": [
    {
     "name": "stdout",
     "output_type": "stream",
     "text": [
      "IP / TCP 10.0.2.5:moira_update > 10.0.2.4:telnet S ==> IP / TCP 10.0.2.4:telnet > 10.0.2.5:moira_update SA / Padding\n",
      "IP / TCP 10.0.2.5:moira_update > 10.0.2.4:http S ==> IP / TCP 10.0.2.4:http > 10.0.2.5:moira_update SA / Padding\n",
      "IP / TCP 10.0.2.5:moira_update > 10.0.2.4:webmin S ==> IP / TCP 10.0.2.4:webmin > 10.0.2.5:moira_update RA / Padding\n"
     ]
    }
   ],
   "source": [
    "ans.summary()"
   ]
  },
  {
   "cell_type": "markdown",
   "metadata": {},
   "source": [
    "**OK, maybe is worth to add sport randomized + some retries?**\n",
    "* sport - RandShort(), random source port\n",
    "* flags - S = Syn\n",
    "* inter - time interval between two packets,\n",
    "* retry - number of retries\n",
    "* timeout - how long scapy should wait after last sent packet"
   ]
  },
  {
   "cell_type": "code",
   "execution_count": 31,
   "metadata": {},
   "outputs": [
    {
     "name": "stdout",
     "output_type": "stream",
     "text": [
      "Begin emission:\n",
      "Finished to send 1 packets.\n",
      "\n",
      "Received 27 packets, got 1 answers, remaining 0 packets\n"
     ]
    }
   ],
   "source": [
    "ans,unans = sr(IP(dst=\"10.0.2.4\")/TCP(sport=RandShort(),dport=80,flags=\"S\"),inter=0.5,retry=2,timeout=1)"
   ]
  },
  {
   "cell_type": "code",
   "execution_count": 32,
   "metadata": {},
   "outputs": [
    {
     "name": "stdout",
     "output_type": "stream",
     "text": [
      "IP / TCP 10.0.2.5:23174 > 10.0.2.4:http S ==> IP / TCP 10.0.2.4:http > 10.0.2.5:23174 SA / Padding\n"
     ]
    }
   ],
   "source": [
    "ans.summary()"
   ]
  },
  {
   "cell_type": "markdown",
   "metadata": {},
   "source": [
    "## ARP ping"
   ]
  },
  {
   "cell_type": "code",
   "execution_count": 53,
   "metadata": {},
   "outputs": [
    {
     "name": "stdout",
     "output_type": "stream",
     "text": [
      "Begin emission:\n",
      "Finished to send 256 packets.\n",
      "\n",
      "Received 4 packets, got 4 answers, remaining 252 packets\n",
      "  52:54:00:12:35:00 10.0.2.1\n",
      "  08:00:27:67:15:c9 10.0.2.3\n",
      "  52:54:00:12:35:00 10.0.2.2\n",
      "  08:00:27:f8:a1:68 10.0.2.4\n"
     ]
    },
    {
     "data": {
      "text/plain": [
       "(<ARPing: TCP:0 UDP:0 ICMP:0 Other:4>,\n",
       " <Unanswered: TCP:0 UDP:0 ICMP:0 Other:252>)"
      ]
     },
     "execution_count": 53,
     "metadata": {},
     "output_type": "execute_result"
    }
   ],
   "source": [
    "arping(\"10.0.2.*\")"
   ]
  },
  {
   "cell_type": "markdown",
   "metadata": {},
   "source": [
    "## TCP ping"
   ]
  },
  {
   "cell_type": "code",
   "execution_count": 2,
   "metadata": {},
   "outputs": [
    {
     "name": "stdout",
     "output_type": "stream",
     "text": [
      "Begin emission:\n",
      "Finished to send 11 packets.\n",
      "\n",
      "Received 91 packets, got 3 answers, remaining 8 packets\n"
     ]
    }
   ],
   "source": [
    "ans,unans=sr(IP(dst=\"10.0.2.0-10\")/TCP(dport=80, flags=\"S\"),timeout=4)"
   ]
  },
  {
   "cell_type": "code",
   "execution_count": 4,
   "metadata": {},
   "outputs": [
    {
     "name": "stdout",
     "output_type": "stream",
     "text": [
      "IP / TCP 10.0.2.5:ftp_data > 10.0.2.1:http S ==> IP / TCP 10.0.2.1:http > 10.0.2.5:ftp_data RA / Padding\n",
      "IP / TCP 10.0.2.5:ftp_data > 10.0.2.2:http S ==> IP / TCP 10.0.2.2:http > 10.0.2.5:ftp_data SA / Padding\n",
      "IP / TCP 10.0.2.5:ftp_data > 10.0.2.4:http S ==> IP / TCP 10.0.2.4:http > 10.0.2.5:ftp_data SA / Padding\n"
     ]
    }
   ],
   "source": [
    "ans.summary()"
   ]
  },
  {
   "cell_type": "markdown",
   "metadata": {},
   "source": [
    "## UDP ping"
   ]
  },
  {
   "cell_type": "code",
   "execution_count": 2,
   "metadata": {},
   "outputs": [
    {
     "name": "stdout",
     "output_type": "stream",
     "text": [
      "Begin emission:\n",
      "Finished to send 11 packets.\n",
      "\n",
      "Received 137 packets, got 2 answers, remaining 9 packets\n"
     ]
    }
   ],
   "source": [
    "ans,unans=sr(IP(dst=\"10.0.2.0-10\")/UDP(dport=1))"
   ]
  },
  {
   "cell_type": "code",
   "execution_count": 3,
   "metadata": {},
   "outputs": [
    {
     "name": "stdout",
     "output_type": "stream",
     "text": [
      "IP / UDP 10.0.2.5:domain > 10.0.2.1:1 ==> IP / ICMP 10.0.2.1 > 10.0.2.5 dest-unreach port-unreachable / IPerror / UDPerror\n",
      "IP / UDP 10.0.2.5:domain > 10.0.2.4:1 ==> IP / ICMP 10.0.2.4 > 10.0.2.5 dest-unreach port-unreachable / IPerror / UDPerror\n"
     ]
    }
   ],
   "source": [
    "ans.summary()"
   ]
  },
  {
   "cell_type": "markdown",
   "metadata": {},
   "source": [
    "## Traceroute"
   ]
  },
  {
   "cell_type": "code",
   "execution_count": null,
   "metadata": {},
   "outputs": [],
   "source": [
    "traceroute([\"www.google.com\"], maxttl=20)"
   ]
  },
  {
   "cell_type": "markdown",
   "metadata": {},
   "source": [
    "## DNS query"
   ]
  },
  {
   "cell_type": "markdown",
   "metadata": {},
   "source": [
    "**First of all check what can be set for DNS question record**"
   ]
  },
  {
   "cell_type": "code",
   "execution_count": 4,
   "metadata": {},
   "outputs": [
    {
     "name": "stdout",
     "output_type": "stream",
     "text": [
      "###[ DNS Question Record ]### \n",
      "  qname     = 'www.example.com'\n",
      "  qtype     = A\n",
      "  qclass    = IN\n",
      "\n"
     ]
    }
   ],
   "source": [
    "DNSQR().show()"
   ]
  },
  {
   "cell_type": "code",
   "execution_count": 3,
   "metadata": {},
   "outputs": [
    {
     "name": "stdout",
     "output_type": "stream",
     "text": [
      "###[ DNS ]### \n",
      "  id        = 0\n",
      "  qr        = 0\n",
      "  opcode    = QUERY\n",
      "  aa        = 0\n",
      "  tc        = 0\n",
      "  rd        = 1\n",
      "  ra        = 0\n",
      "  z         = 0\n",
      "  ad        = 0\n",
      "  cd        = 0\n",
      "  rcode     = ok\n",
      "  qdcount   = 0\n",
      "  ancount   = 0\n",
      "  nscount   = 0\n",
      "  arcount   = 0\n",
      "  qd        = None\n",
      "  an        = None\n",
      "  ns        = None\n",
      "  ar        = None\n",
      "\n"
     ]
    }
   ],
   "source": [
    "DNS().show()"
   ]
  },
  {
   "cell_type": "markdown",
   "metadata": {},
   "source": [
    "**DNS is UDP packet, so create IP()/UDP()/DNS() packet**"
   ]
  },
  {
   "cell_type": "code",
   "execution_count": 2,
   "metadata": {},
   "outputs": [
    {
     "name": "stdout",
     "output_type": "stream",
     "text": [
      "Begin emission:\n",
      "Finished to send 1 packets.\n",
      "\n",
      "Received 46 packets, got 1 answers, remaining 0 packets\n"
     ]
    }
   ],
   "source": [
    "ans = sr1(IP(dst=\"8.8.8.8\")/UDP()/DNS(rd=1,qd=DNSQR(qname=\"www.google.com\")),timeout=5)"
   ]
  },
  {
   "cell_type": "code",
   "execution_count": 5,
   "metadata": {},
   "outputs": [
    {
     "name": "stdout",
     "output_type": "stream",
     "text": [
      "###[ IP ]### \n",
      "  version   = 4L\n",
      "  ihl       = 5L\n",
      "  tos       = 0x0\n",
      "  len       = 76\n",
      "  id        = 65167\n",
      "  flags     = \n",
      "  frag      = 0L\n",
      "  ttl       = 118\n",
      "  proto     = udp\n",
      "  chksum    = 0x73f1\n",
      "  src       = 8.8.8.8\n",
      "  dst       = 192.168.1.104\n",
      "  \\options   \\\n",
      "###[ UDP ]### \n",
      "     sport     = domain\n",
      "     dport     = domain\n",
      "     len       = 56\n",
      "     chksum    = 0xb391\n",
      "###[ DNS ]### \n",
      "        id        = 0\n",
      "        qr        = 1L\n",
      "        opcode    = QUERY\n",
      "        aa        = 0L\n",
      "        tc        = 0L\n",
      "        rd        = 1L\n",
      "        ra        = 1L\n",
      "        z         = 0L\n",
      "        ad        = 0L\n",
      "        cd        = 0L\n",
      "        rcode     = ok\n",
      "        qdcount   = 1\n",
      "        ancount   = 1\n",
      "        nscount   = 0\n",
      "        arcount   = 0\n",
      "        \\qd        \\\n",
      "         |###[ DNS Question Record ]### \n",
      "         |  qname     = 'www.google.com.'\n",
      "         |  qtype     = A\n",
      "         |  qclass    = IN\n",
      "        \\an        \\\n",
      "         |###[ DNS Resource Record ]### \n",
      "         |  rrname    = 'www.google.com.'\n",
      "         |  type      = A\n",
      "         |  rclass    = IN\n",
      "         |  ttl       = 199\n",
      "         |  rdlen     = 4\n",
      "         |  rdata     = '216.58.209.36'\n",
      "        ns        = None\n",
      "        ar        = None\n",
      "\n"
     ]
    }
   ],
   "source": [
    "ans.show()"
   ]
  },
  {
   "cell_type": "markdown",
   "metadata": {},
   "source": [
    "## Sniffing"
   ]
  },
  {
   "cell_type": "code",
   "execution_count": 7,
   "metadata": {},
   "outputs": [
    {
     "name": "stdout",
     "output_type": "stream",
     "text": [
      "192.168.1.102 -> 213.138.116.78:PASV\n",
      "\n",
      "213.138.116.78 -> 192.168.1.102:227 Entering Passive Mode (213,138,116,78,233,168).\n",
      "\n",
      "192.168.1.102 -> 213.138.116.78:\n",
      "192.168.1.102 -> 213.138.116.78:CWD /pub/FreeBSD/\n",
      "\n",
      "213.138.116.78 -> 192.168.1.102:250 Directory successfully changed.\n",
      "\n",
      "192.168.1.102 -> 213.138.116.78:LIST\n",
      "\n",
      "213.138.116.78 -> 192.168.1.102:150 Here comes the directory listing.\n",
      "\n",
      "192.168.1.102 -> 213.138.116.78:\n",
      "213.138.116.78 -> 192.168.1.102:226 Directory send OK.\n",
      "\n",
      "192.168.1.102 -> 213.138.116.78:\n"
     ]
    },
    {
     "data": {
      "text/plain": [
       "<Sniffed: TCP:10 UDP:0 ICMP:0 Other:0>"
      ]
     },
     "execution_count": 7,
     "metadata": {},
     "output_type": "execute_result"
    }
   ],
   "source": [
    "def printPacket(p):\n",
    "    destAddress = p[IP].dst\n",
    "    sourceAddress = p[IP].src\n",
    "    load = ''\n",
    "    if Raw in p:\n",
    "        load = p[Raw].load\n",
    "    print('{} -> {}:{}'.format(sourceAddress, destAddress, load))\n",
    "    \n",
    "sniff(filter='tcp and port 21',prn=printPacket,count=10)"
   ]
  },
  {
   "cell_type": "markdown",
   "metadata": {},
   "source": [
    "## Writing packages to a pcap file"
   ]
  },
  {
   "cell_type": "code",
   "execution_count": null,
   "metadata": {},
   "outputs": [],
   "source": [
    "def writePacket(p):\n",
    "    wrpcap('scapy_example.pcap',p,append=True)\n",
    "\n",
    "sniff(filter='tcp and port 21',prn=writePacket,count=10)"
   ]
  },
  {
   "cell_type": "code",
   "execution_count": null,
   "metadata": {},
   "outputs": [],
   "source": []
  }
 ],
 "metadata": {
  "kernelspec": {
   "display_name": "Python 2",
   "language": "python",
   "name": "python2"
  },
  "language_info": {
   "codemirror_mode": {
    "name": "ipython",
    "version": 2
   },
   "file_extension": ".py",
   "mimetype": "text/x-python",
   "name": "python",
   "nbconvert_exporter": "python",
   "pygments_lexer": "ipython2",
   "version": "2.7.15+"
  }
 },
 "nbformat": 4,
 "nbformat_minor": 2
}
